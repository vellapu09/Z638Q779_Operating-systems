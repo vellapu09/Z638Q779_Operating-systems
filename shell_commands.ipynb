{
  "nbformat": 4,
  "nbformat_minor": 0,
  "metadata": {
    "colab": {
      "provenance": [],
      "authorship_tag": "ABX9TyONUOsn75vyLeHA8JCTzHcT",
      "include_colab_link": true
    },
    "kernelspec": {
      "name": "python3",
      "display_name": "Python 3"
    },
    "language_info": {
      "name": "python"
    }
  },
  "cells": [
    {
      "cell_type": "markdown",
      "metadata": {
        "id": "view-in-github",
        "colab_type": "text"
      },
      "source": [
        "<a href=\"https://colab.research.google.com/github/vellapu09/Z638Q779_Operating-systems/blob/main/shell_commands.ipynb\" target=\"_parent\"><img src=\"https://colab.research.google.com/assets/colab-badge.svg\" alt=\"Open In Colab\"/></a>"
      ]
    },
    {
      "cell_type": "code",
      "execution_count": 1,
      "metadata": {
        "id": "WMJ_vxSatXKo"
      },
      "outputs": [],
      "source": [
        "import os"
      ]
    },
    {
      "cell_type": "code",
      "source": [
        "def list_dir_contents():\n",
        "    \"\"\"\n",
        "    Function to list directory contents using 'dir' command.\n",
        "    \"\"\"\n",
        "    try:\n",
        "        output = os.system('dir')\n",
        "        print(\"Directory contents:\\n\", output)\n",
        "    except Exception as e:\n",
        "        print(\"Error:\", e)\n"
      ],
      "metadata": {
        "id": "5wDKmUQrtc6g"
      },
      "execution_count": 2,
      "outputs": []
    },
    {
      "cell_type": "code",
      "source": [
        "def print_working_dir():\n",
        "    \"\"\"\n",
        "    Function to print the current working directory.\n",
        "    \"\"\"\n",
        "    try:\n",
        "        output = os.getcwd()\n",
        "        print(\"Current directory:\", output)\n",
        "    except Exception as e:\n",
        "        print(\"Error:\", e)\n"
      ],
      "metadata": {
        "id": "ESkUkQMFtgHM"
      },
      "execution_count": 3,
      "outputs": []
    },
    {
      "cell_type": "code",
      "source": [
        "def create_new_dir():\n",
        "    \"\"\"\n",
        "    Function to create a new directory.\n",
        "    \"\"\"\n",
        "    try:\n",
        "        dirname = input(\"Enter the name of the directory to create: \")\n",
        "        os.mkdir(dirname)\n",
        "        print(\"Directory '{}' created successfully.\".format(dirname))\n",
        "    except Exception as e:\n",
        "        print(\"Error:\", e)\n"
      ],
      "metadata": {
        "id": "yR2Ml9-etisK"
      },
      "execution_count": 4,
      "outputs": []
    },
    {
      "cell_type": "code",
      "source": [
        "def display_user_message():\n",
        "    \"\"\"\n",
        "    Function to display a user-provided message.\n",
        "    \"\"\"\n",
        "    message = input(\"Enter the message to display: \")\n",
        "    print(\"Message:\", message)\n"
      ],
      "metadata": {
        "id": "lXk0j5votl7u"
      },
      "execution_count": 5,
      "outputs": []
    },
    {
      "cell_type": "code",
      "source": [
        "def display_file_contents():\n",
        "    \"\"\"\n",
        "    Function to display the contents of a file.\n",
        "    \"\"\"\n",
        "    try:\n",
        "        filename = input(\"Enter the name of the file to display: \")\n",
        "        with open(filename, 'r') as file:\n",
        "            content = file.read()\n",
        "            print(\"File content:\\n\", content)\n",
        "    except Exception as e:\n",
        "        print(\"Error:\", e)\n"
      ],
      "metadata": {
        "id": "jk0mLxJBtotp"
      },
      "execution_count": 6,
      "outputs": []
    },
    {
      "cell_type": "code",
      "source": [
        "def main():\n",
        "    \"\"\"\n",
        "    Main function to display menu and execute chosen commands.\n",
        "    \"\"\"\n",
        "    while True:\n",
        "        print(\"\\nMenu:\")\n",
        "        print(\"1. List directory contents\")\n",
        "        print(\"2. Print working directory\")\n",
        "        print(\"3. Create a new directory\")\n",
        "        print(\"4. Display a message\")\n",
        "        print(\"5. Display content of a file\")\n",
        "        print(\"6. Exit\")\n",
        "\n",
        "        choice = input(\"Enter your choice: \")\n",
        "\n",
        "        if choice == '1':\n",
        "            list_dir_contents()\n",
        "        elif choice == '2':\n",
        "            print_working_dir()\n",
        "        elif choice == '3':\n",
        "            create_new_dir()\n",
        "        elif choice == '4':\n",
        "            display_user_message()\n",
        "        elif choice == '5':\n",
        "            display_file_contents()\n",
        "        elif choice == '6':\n",
        "            print(\"Exiting program. Goodbye!\")\n",
        "            break\n",
        "        else:\n",
        "            print(\"Invalid choice. Please enter a number between 1 and 6.\")\n"
      ],
      "metadata": {
        "id": "CDiSjkSLttOV"
      },
      "execution_count": 7,
      "outputs": []
    },
    {
      "cell_type": "code",
      "source": [
        "if __name__ == \"__main__\":\n",
        "    # Instructions for execution\n",
        "    print(\"Welcome to the Shell Command Executor!\")\n",
        "    print(\"This program allows you to execute various shell commands.\")\n",
        "    print(\"Follow the menu instructions to choose a command.\")\n",
        "    print(\"Ensure proper input for file and directory names.\")\n",
        "    main()\n"
      ],
      "metadata": {
        "colab": {
          "base_uri": "https://localhost:8080/"
        },
        "id": "WcswhubetxcD",
        "outputId": "e736a570-b897-4161-e2eb-5dbe6d8f3693"
      },
      "execution_count": null,
      "outputs": [
        {
          "metadata": {
            "tags": null
          },
          "name": "stdout",
          "output_type": "stream",
          "text": [
            "Welcome to the Shell Command Executor!\n",
            "This program allows you to execute various shell commands.\n",
            "Follow the menu instructions to choose a command.\n",
            "Ensure proper input for file and directory names.\n",
            "\n",
            "Menu:\n",
            "1. List directory contents\n",
            "2. Print working directory\n",
            "3. Create a new directory\n",
            "4. Display a message\n",
            "5. Display content of a file\n",
            "6. Exit\n"
          ]
        }
      ]
    },
    {
      "cell_type": "code",
      "source": [],
      "metadata": {
        "id": "Vp7YTaLUtzdh"
      },
      "execution_count": null,
      "outputs": []
    }
  ]
}