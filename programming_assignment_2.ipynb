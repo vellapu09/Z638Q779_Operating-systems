{
  "nbformat": 4,
  "nbformat_minor": 0,
  "metadata": {
    "colab": {
      "provenance": [],
      "authorship_tag": "ABX9TyMzrjoRQslIHdrljhqLBZr8",
      "include_colab_link": true
    },
    "kernelspec": {
      "name": "python3",
      "display_name": "Python 3"
    },
    "language_info": {
      "name": "python"
    }
  },
  "cells": [
    {
      "cell_type": "markdown",
      "metadata": {
        "id": "view-in-github",
        "colab_type": "text"
      },
      "source": [
        "<a href=\"https://colab.research.google.com/github/vellapu09/Z638Q779_Operating-systems/blob/progranning-assignment-2/programming_assignment_2.ipynb\" target=\"_parent\"><img src=\"https://colab.research.google.com/assets/colab-badge.svg\" alt=\"Open In Colab\"/></a>"
      ]
    },
    {
      "cell_type": "code",
      "execution_count": 1,
      "metadata": {
        "colab": {
          "base_uri": "https://localhost:8080/"
        },
        "id": "UBO1tJlgc_Zg",
        "outputId": "f5a19d10-4476-445f-e32d-dea293b0748e"
      },
      "outputs": [
        {
          "output_type": "stream",
          "name": "stdout",
          "text": [
            "Process List and their Lottery Tickets:\n",
            "Process ID: 1, Tickets: [1]\n",
            "Process ID: 2, Tickets: [2, 3, 4, 5]\n",
            "Process ID: 3, Tickets: [6, 7]\n",
            "Process ID: 4, Tickets: [8, 9, 10, 11]\n",
            "Process ID: 5, Tickets: [12]\n",
            "\n",
            "Next process to run: 4 (Holding ticket: 9)\n"
          ]
        }
      ],
      "source": [
        "import random\n",
        "\n",
        "class Process:\n",
        "    def __init__(self, process_id):\n",
        "        self.process_id = process_id\n",
        "        self.lottery_tickets = []\n",
        "\n",
        "    def assign_tickets(self, tickets):\n",
        "        self.lottery_tickets.extend(tickets)\n",
        "\n",
        "    def __str__(self):\n",
        "        return f\"Process ID: {self.process_id}, Tickets: {self.lottery_tickets}\"\n",
        "\n",
        "\n",
        "class Scheduler:\n",
        "    def __init__(self):\n",
        "        self.processes = []\n",
        "        self.ticket_pool = []\n",
        "\n",
        "    def add_process(self, process):\n",
        "        self.processes.append(process)\n",
        "\n",
        "    def allocate_tickets(self):\n",
        "        ticket_counter = 1\n",
        "        for process in self.processes:\n",
        "            num_tickets = random.randint(1, 10)  # Allocate between 1 and 10 tickets arbitrarily\n",
        "            tickets = list(range(ticket_counter, ticket_counter + num_tickets))\n",
        "            process.assign_tickets(tickets)\n",
        "            self.ticket_pool.extend(tickets)\n",
        "            ticket_counter += num_tickets\n",
        "\n",
        "    def select_next_process(self):\n",
        "        if not self.ticket_pool:\n",
        "            print(\"No tickets in the pool. Can't select the next process.\")\n",
        "            return None\n",
        "        winning_ticket = random.choice(self.ticket_pool)\n",
        "        for process in self.processes:\n",
        "            if winning_ticket in process.lottery_tickets:\n",
        "                return process\n",
        "        return None\n",
        "\n",
        "    def __str__(self):\n",
        "        return '\\n'.join(str(process) for process in self.processes)\n",
        "\n",
        "\n",
        "def main():\n",
        "    scheduler = Scheduler()\n",
        "\n",
        "    # Create and add processes to the scheduler\n",
        "    for i in range(1, 6):  # Create 5 processes for demonstration\n",
        "        scheduler.add_process(Process(i))\n",
        "\n",
        "    # Allocate lottery tickets to each process\n",
        "    scheduler.allocate_tickets()\n",
        "\n",
        "    print(\"Process List and their Lottery Tickets:\")\n",
        "    print(scheduler)\n",
        "\n",
        "    # Select the next process to run based on the lottery\n",
        "    next_process = scheduler.select_next_process()\n",
        "    if next_process:\n",
        "        print(f\"\\nNext process to run: {next_process.process_id} (Holding ticket: {random.choice(next_process.lottery_tickets)})\")\n",
        "\n",
        "\n",
        "if __name__ == \"__main__\":\n",
        "    main()\n"
      ]
    },
    {
      "cell_type": "code",
      "source": [],
      "metadata": {
        "id": "V6IcxsOgdCEd"
      },
      "execution_count": null,
      "outputs": []
    }
  ]
}